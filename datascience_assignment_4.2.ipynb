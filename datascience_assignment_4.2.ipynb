{
 "cells": [
  {
   "cell_type": "markdown",
   "metadata": {},
   "source": [
    "## Python program  that maps list of words into a list of integers representing the lengths of the corresponding words .\n",
    "\n",
    "## Solution:\n",
    "\n",
    "### Steps:\n",
    "* Function map_string_length takes argument list lst and using map for each string element to length of element and return the list  "
   ]
  },
  {
   "cell_type": "code",
   "execution_count": 9,
   "metadata": {},
   "outputs": [
    {
     "name": "stdout",
     "output_type": "stream",
     "text": [
      "[2, 3, 4]\n"
     ]
    }
   ],
   "source": [
    "# Function map_string_length takes argument list lst and using map for each string element to\n",
    "# length of element and return the list\n",
    "def map_string_length(lst):\n",
    "    return list(map((lambda element: len(element)), lst))\n",
    "\n",
    "# Call map_string_length on list ab,cde,erty\n",
    "lst = [\"ab\",\"cde\",\"erty\"]\n",
    "print(str(map_string_length(lst)))"
   ]
  },
  {
   "cell_type": "markdown",
   "metadata": {},
   "source": [
    "## Python function which takes a character (i.e. a string of length 1) and returns True if it is a vowel, False otherwise.\n",
    "## Solution:\n",
    "\n",
    "### Steps:\n",
    "* Function isVowel which takes a string of length, convert to lower and check if it is in any of vowel letter then return True, return False otherwise. If s is None or not a string or blank string an exception of type ValueError will be raised with message \"Input s to function isVowel must be string of length 1\""
   ]
  },
  {
   "cell_type": "code",
   "execution_count": 15,
   "metadata": {},
   "outputs": [
    {
     "name": "stdout",
     "output_type": "stream",
     "text": [
      "For character j is isVowel return value = False\n",
      "For charater e is isVowel return value = True\n"
     ]
    }
   ],
   "source": [
    "# Function isVowel which takes a string of length 1, covert ot lower and \n",
    "# check if it is in any of vowel letter then return True, False otherwise\n",
    "#If s is None or not a string or blank string an exception of type ValueError\n",
    "# will be raised with message \"Input s to function isVowel must be string of length 1\"\n",
    "def isVowel(s):\n",
    "    # If s is None or not a string or blank string raise an Exception\n",
    "    if s is None or isinstance(s, str) == False or s == \"\":\n",
    "        raise ValueError(\"Input s to function isVowel must be string of length 1\")\n",
    "        \n",
    "    # if lower value of is any of 'a', 'e', 'i', 'o', 'u' then return True\n",
    "    # else return Fasle\n",
    "    if s.lower() in ['a', 'e','i', 'o', 'u']:\n",
    "        return True\n",
    "    else:\n",
    "        return False\n",
    "    \n",
    "print(\"For character j is isVowel return value = \" + str(isVowel('j'))) \n",
    "print(\"For charater e is isVowel return value = \" + str(isVowel('e')))\n",
    "\n"
   ]
  },
  {
   "cell_type": "code",
   "execution_count": null,
   "metadata": {},
   "outputs": [],
   "source": []
  }
 ],
 "metadata": {
  "kernelspec": {
   "display_name": "Python 3",
   "language": "python",
   "name": "python3"
  },
  "language_info": {
   "codemirror_mode": {
    "name": "ipython",
    "version": 3
   },
   "file_extension": ".py",
   "mimetype": "text/x-python",
   "name": "python",
   "nbconvert_exporter": "python",
   "pygments_lexer": "ipython3",
   "version": "3.6.4"
  }
 },
 "nbformat": 4,
 "nbformat_minor": 2
}
